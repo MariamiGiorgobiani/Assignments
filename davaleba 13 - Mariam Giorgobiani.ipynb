{
 "cells": [
  {
   "cell_type": "code",
   "execution_count": 11,
   "id": "41684582",
   "metadata": {},
   "outputs": [
    {
     "name": "stdout",
     "output_type": "stream",
     "text": [
      "Total Amount of Lines = 1000\n"
     ]
    }
   ],
   "source": [
    "with open(\"text.txt\", 'w') as wfile:\n",
    "    for i in range(1, 1001):\n",
    "        wfile.write(f\"{i}. Line {i}\\n\")\n",
    "        \n",
    "count = 0\n",
    "\n",
    "with open(\"text.txt\", 'r') as rfile:\n",
    "    for line in rfile:\n",
    "        count += 1\n",
    "print(f'Total Amount of Lines = {count}')"
   ]
  },
  {
   "cell_type": "code",
   "execution_count": 7,
   "id": "a99011df",
   "metadata": {},
   "outputs": [
    {
     "name": "stdout",
     "output_type": "stream",
     "text": [
      "Line 1\n",
      "Two\n",
      "Line 3\n",
      "Line 4\n",
      "Line 5\n",
      "Line 6\n",
      "Line 7\n",
      "Eight\n",
      "Line 9\n",
      "Ten\n",
      "Line 11\n",
      "Line 12\n",
      "Thirteen\n",
      "Line 14\n",
      "Line 15\n",
      "Line 16\n",
      "Seventeen\n"
     ]
    }
   ],
   "source": [
    "text = {\n",
    "        2: \"Two\",\n",
    "        8: \"Eight\",\n",
    "        10: \"Ten\",\n",
    "        13: \"Thirteen\",\n",
    "        17: \"Seventeen\"}\n",
    "\n",
    "\n",
    "with open(\"text.txt\", 'w') as wfile:\n",
    "    for i in range(1, 18):\n",
    "        if i in text:\n",
    "            wfile.write(f\"{text[i]}\\n\")\n",
    "        else:\n",
    "            wfile.write(f\"Line {i}\\n\")\n",
    "\n",
    "with open(\"text.txt\", 'r') as rfile:\n",
    "    for line in rfile:\n",
    "        print(line.strip())"
   ]
  },
  {
   "cell_type": "code",
   "execution_count": 6,
   "id": "e45fd5b6",
   "metadata": {},
   "outputs": [
    {
     "name": "stdout",
     "output_type": "stream",
     "text": [
      "1. Line 1\n",
      "2. Line 2\n",
      "3. Line 3\n",
      "4. Line 4\n",
      "5. Line 5\n",
      "6. Line 6\n",
      "7. Line 7\n",
      "8. Line 8\n",
      "9. Line 9\n",
      "10. Line 10\n",
      "11. Line 11\n",
      "12. Line 12\n",
      "13. Line 13\n",
      "14. Line 14\n",
      "15. Line 15\n",
      "16. Line 16\n",
      "17. Line 17\n",
      "18. Line 18\n",
      "19. Line 19\n",
      "20. Line 20\n"
     ]
    }
   ],
   "source": [
    "with open(\"text1.txt\", 'w') as wfile1:\n",
    "    for i in range(1, 10):\n",
    "        wfile1.write(f\"{i}. Line {i}\\n\")\n",
    "\n",
    "with open(\"text2.txt\", 'w') as wfile2:\n",
    "    for i in range(10, 21):\n",
    "        wfile2.write(f\"{i}. Line {i}\\n\")\n",
    "\n",
    "with open(\"text1.txt\", 'r') as rfile1:\n",
    "        rfile1_text = rfile1.readlines()\n",
    "\n",
    "with open(\"text2.txt\", 'r') as rfile2:\n",
    "        rfile2_text = rfile2.readlines()\n",
    "\n",
    "merged = rfile1_text + rfile2_text\n",
    "\n",
    "with open(\"text_merged.txt\", 'w') as merged_file:\n",
    "        merged_file.writelines(merged)\n",
    "\n",
    "\n",
    "with open(\"text_merged.txt\", 'r') as merged_file:\n",
    "    for line in merged_file:\n",
    "        print(line.strip())"
   ]
  },
  {
   "cell_type": "code",
   "execution_count": null,
   "id": "91d64ecc",
   "metadata": {},
   "outputs": [],
   "source": []
  }
 ],
 "metadata": {
  "kernelspec": {
   "display_name": "Python 3 (ipykernel)",
   "language": "python",
   "name": "python3"
  },
  "language_info": {
   "codemirror_mode": {
    "name": "ipython",
    "version": 3
   },
   "file_extension": ".py",
   "mimetype": "text/x-python",
   "name": "python",
   "nbconvert_exporter": "python",
   "pygments_lexer": "ipython3",
   "version": "3.9.13"
  }
 },
 "nbformat": 4,
 "nbformat_minor": 5
}
